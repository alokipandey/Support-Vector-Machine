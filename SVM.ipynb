{
 "cells": [
  {
   "cell_type": "markdown",
   "metadata": {},
   "source": [
    "# BBC Dataset: News Classification\n",
    "Dataset:https://drive.google.com/open?id=1J93hFfSKX2iqQKhOjHI19d6DSA2DmBSY\n",
    "\n",
    "Description: http://mlg.ucd.ie/datasets/bbc.html\n",
    "\n",
    "Consists of 2225 documents from the BBC news website corresponding to stories in five topical areas from 2004-2005.\n",
    "Class Labels: 5 (business, entertainment, politics, sport, tech)"
   ]
  },
  {
   "cell_type": "code",
   "execution_count": 162,
   "metadata": {},
   "outputs": [],
   "source": [
    "import pandas as pd\n",
    "import numpy as np\n",
    "def ToDiskP(data,name):\n",
    "    with open(name+\".txt\", \"wb\") as fp:   #Pickling\n",
    "        pickle.dump(data, fp)\n",
    "def FromDiskP(name):\n",
    "    with open(name+\".txt\", \"rb\") as fp:   # Unpickling\n",
    "        file = pickle.load(fp)\n",
    "    return file\n",
    "\n",
    "from tqdm import tqdm\n",
    "import re\n",
    "import pickle\n",
    "from sklearn.svm import SVC\n",
    "from sklearn.model_selection import GridSearchCV\n",
    "from sklearn.multiclass import OneVsRestClassifier\n",
    "from sklearn.metrics import f1_score as f1\n",
    "import matplotlib.pyplot as plt\n",
    "from sklearn.feature_extraction.text import TfidfVectorizer\n",
    "\n",
    "hparam=[10**-5,10**-4,10**-3,10**-2,10**-1,10**0,10**1,10**2,10**3, 10**4,10**5]\n",
    "\n",
    "def BestHparam_(xtr_,ytr_,kfold_,j_,k_): #k-fold: kfold cross validation, j:#jobs to run in parallel\n",
    "    svm_ = SVC(kernel=k_, random_state=1, decision_function_shape='ovr')\n",
    "    param_grid = {'C':hparam}\n",
    "    grid_ = GridSearchCV(svm_, param_grid, n_jobs=j_, scoring='accuracy', cv=kfold_, return_train_score=True)\n",
    "    grid_.fit(xtr_,ytr_)\n",
    "    return grid_;\n"
   ]
  },
  {
   "cell_type": "code",
   "execution_count": 96,
   "metadata": {},
   "outputs": [
    {
     "name": "stdout",
     "output_type": "stream",
     "text": [
      "(2225, 2)\n",
      "category                                                                                                                                                                                                                                                                                                                                                                                                                                                                                                                                                                                                                                                                                                                                                                                                                                                                                                                                                                                                                                                                                                                                                                                                                                                                                                                                                  tech\n",
      "text        security warning over  fbi virus  the us federal bureau of investigation is warning that a computer virus is being spread via e-mails that purport to be from the fbi.  the e-mails show that they have come from an fbi.gov address and tell recipients that they have accessed illegal websites. the messages warn that their internet use has been monitored by the fbi s internet fraud complaint center. an attachment in the e-mail contains the virus  the fbi said. the message asks recipients to click on the attachment and answer some questions about their internet use. but rather than being a questionnaire  the attachment contains a virus that infects the recipient s computer  according to the agency. it is not clear what the virus does once it has infected a computer. users are warned never to open attachment from unsolicited e-mails or from people they do not know.   recipients of this or similar solicitations should know that the fbi does not engage in the practice of sending unsolicited e-mails to the public in this manner   the fbi said in a statement. the bureau is investigating the phoney e-mails. the agency earlier this month shut down fbi.gov accounts  used to communicate with the public  because of a security breach. a spokeswoman said the two incidents appear to be unrelated.\n",
      "Name: 20, dtype: object\n"
     ]
    }
   ],
   "source": [
    "raw_data = pd.read_csv('data/bbc-text.csv')\n",
    "clean_data=pd.DataFrame(columns=['category','text'])\n",
    "print(raw_data.shape)\n",
    "pd.options.display.max_colwidth=5000\n",
    "print(raw_data.loc[20])\n",
    "pd.options.display.max_colwidth=50"
   ]
  },
  {
   "cell_type": "code",
   "execution_count": 97,
   "metadata": {},
   "outputs": [
    {
     "name": "stdout",
     "output_type": "stream",
     "text": [
      "Load Successful.\n",
      "Wall time: 26.9 ms\n"
     ]
    }
   ],
   "source": [
    "%%time\n",
    "#Ref: https://stackoverflow.com/a/47091490/4084039\n",
    "\n",
    "def decontracted(phrase):\n",
    "    # specific\n",
    "    phrase = re.sub(r\"won't\", \"will not\", phrase)\n",
    "    phrase = re.sub(r\"can\\'t\", \"can not\", phrase)\n",
    "\n",
    "    # general\n",
    "    phrase = re.sub(r\"n\\'t\", \" not\", phrase)\n",
    "    phrase = re.sub(r\"\\'re\", \" are\", phrase)\n",
    "    phrase = re.sub(r\"\\'s\", \" is\", phrase)\n",
    "    phrase = re.sub(r\"\\'d\", \" would\", phrase)\n",
    "    phrase = re.sub(r\"\\'ll\", \" will\", phrase)\n",
    "    phrase = re.sub(r\"\\'t\", \" not\", phrase)\n",
    "    phrase = re.sub(r\"\\'ve\", \" have\", phrase)\n",
    "    phrase = re.sub(r\"\\'m\", \" am\", phrase)\n",
    "    return phrase\n",
    "\n",
    "#Ref: https://gist.github.com/sebleier/554280\n",
    "# we are removing the words from the stop words list: 'no', 'nor', 'not'\n",
    "# <br /><br /> ==> after the above steps, we are getting \"br br\"\n",
    "# we are including them into stop words list\n",
    "# instead of <br /> if we have <br/> these tags would have revmoved in the 1st step\n",
    "\n",
    "stopwords= set(['br', 'the', 'i', 'me', 'my', 'myself', 'we', 'our', 'ours', 'ourselves', 'you', \"you're\", \"you've\",\\\n",
    "            \"you'll\", \"you'd\", 'your', 'yours', 'yourself', 'yourselves', 'he', 'him', 'his', 'himself', \\\n",
    "            'she', \"she's\", 'her', 'hers', 'herself', 'it', \"it's\", 'its', 'itself', 'they', 'them', 'their',\\\n",
    "            'theirs', 'themselves', 'what', 'which', 'who', 'whom', 'this', 'that', \"that'll\", 'these', 'those', \\\n",
    "            'am', 'is', 'are', 'was', 'were', 'be', 'been', 'being', 'have', 'has', 'had', 'having', 'do', 'does', \\\n",
    "            'did', 'doing', 'a', 'an', 'the', 'and', 'but', 'if', 'or', 'because', 'as', 'until', 'while', 'of', \\\n",
    "            'at', 'by', 'for', 'with', 'about', 'against', 'between', 'into', 'through', 'during', 'before', 'after',\\\n",
    "            'above', 'below', 'to', 'from', 'up', 'down', 'in', 'out', 'on', 'off', 'over', 'under', 'again', 'further',\\\n",
    "            'then', 'once', 'here', 'there', 'when', 'where', 'why', 'how', 'all', 'any', 'both', 'each', 'few', 'more',\\\n",
    "            'most', 'other', 'some', 'such', 'only', 'own', 'same', 'so', 'than', 'too', 'very', \\\n",
    "            's', 't', 'can', 'will', 'just', 'don', \"don't\", 'should', \"should've\", 'now', 'd', 'll', 'm', 'o', 're', \\\n",
    "            've', 'y', 'ain', 'aren', \"aren't\", 'couldn', \"couldn't\", 'didn', \"didn't\", 'doesn', \"doesn't\", 'hadn',\\\n",
    "            \"hadn't\", 'hasn', \"hasn't\", 'haven', \"haven't\", 'isn', \"isn't\", 'ma', 'mightn', \"mightn't\", 'mustn',\\\n",
    "            \"mustn't\", 'needn', \"needn't\", 'shan', \"shan't\", 'shouldn', \"shouldn't\", 'wasn', \"wasn't\", 'weren', \"weren't\", \\\n",
    "            'won', \"won't\", 'wouldn', \"wouldn't\"])\n",
    "\n",
    "\n",
    "# REFERENCE: https://docs.python.org/3/library/re.html\n",
    "#Ref: https://www.w3schools.com/python/python_regex.asp\n",
    "#Ref: https://www.programcreek.com/python/example/99851/nltk.stem.snowball.SnowballStemmer\n",
    "\n",
    "from bs4 import BeautifulSoup\n",
    "def ClearText(text):\n",
    "    text = re.sub(r\"http\\S+\", \"\",text)\n",
    "    text = BeautifulSoup(text, 'lxml').get_text()\n",
    "    text = decontracted(text)\n",
    "    text = re.sub(\"\\S*\\d\\S*\", \"\", text).strip()\n",
    "    text = re.sub('[^a-zA-Z]+', ' ',text)\n",
    "    #print(text)\n",
    "    text = ' '.join(e.lower() for e in text.split() if e.lower() not in stopwords and len(e)>2)\n",
    "    #print(type(text))\n",
    "    #text = list(text.split())\n",
    "    from nltk.stem.snowball import SnowballStemmer\n",
    "    stemmer = SnowballStemmer('english')\n",
    "    stem = []\n",
    "    for w in text.split():\n",
    "        w=stemmer.stem(w)\n",
    "        stem.append(w)\n",
    "    sentance = \" \".join(stem)\n",
    "    return sentance\n",
    "    \n",
    "try:\n",
    "    clean_data=FromDiskP('preprocessed_data')\n",
    "    print('Load Successful.')\n",
    "    \n",
    "except:\n",
    "    preprocessed_ = []\n",
    "    for rv in tqdm(raw_data['text']):\n",
    "        preprocessed_.append(ClearText(rv))\n",
    "    clean_data['text']= preprocessed_\n",
    "    ToDiskP(clean_data,'preprocessed_data')\n",
    "    print('Save successful.')"
   ]
  },
  {
   "cell_type": "code",
   "execution_count": 150,
   "metadata": {},
   "outputs": [
    {
     "data": {
      "text/plain": [
       "sport            511\n",
       "business         510\n",
       "politics         417\n",
       "tech             401\n",
       "entertainment    386\n",
       "Name: category, dtype: int64"
      ]
     },
     "execution_count": 150,
     "metadata": {},
     "output_type": "execute_result"
    }
   ],
   "source": [
    "clean_data['category']=raw_data['category']\n",
    "clean_data['category'].value_counts()"
   ]
  },
  {
   "cell_type": "code",
   "execution_count": 101,
   "metadata": {
    "scrolled": true
   },
   "outputs": [
    {
     "data": {
      "text/html": [
       "<div>\n",
       "<style scoped>\n",
       "    .dataframe tbody tr th:only-of-type {\n",
       "        vertical-align: middle;\n",
       "    }\n",
       "\n",
       "    .dataframe tbody tr th {\n",
       "        vertical-align: top;\n",
       "    }\n",
       "\n",
       "    .dataframe thead th {\n",
       "        text-align: right;\n",
       "    }\n",
       "</style>\n",
       "<table border=\"1\" class=\"dataframe\">\n",
       "  <thead>\n",
       "    <tr style=\"text-align: right;\">\n",
       "      <th></th>\n",
       "      <th>category</th>\n",
       "      <th>text</th>\n",
       "    </tr>\n",
       "  </thead>\n",
       "  <tbody>\n",
       "    <tr>\n",
       "      <th>0</th>\n",
       "      <td>tech</td>\n",
       "      <td>futur hand viewer home theatr system plasma hi...</td>\n",
       "    </tr>\n",
       "    <tr>\n",
       "      <th>1</th>\n",
       "      <td>business</td>\n",
       "      <td>worldcom boss left book alon former worldcom b...</td>\n",
       "    </tr>\n",
       "    <tr>\n",
       "      <th>2</th>\n",
       "      <td>sport</td>\n",
       "      <td>tiger wari farrel gambl leicest say not rush m...</td>\n",
       "    </tr>\n",
       "    <tr>\n",
       "      <th>3</th>\n",
       "      <td>sport</td>\n",
       "      <td>yead face newcastl cup premiership side newcas...</td>\n",
       "    </tr>\n",
       "    <tr>\n",
       "      <th>4</th>\n",
       "      <td>entertainment</td>\n",
       "      <td>ocean twelv raid box offic ocean twelv crime c...</td>\n",
       "    </tr>\n",
       "  </tbody>\n",
       "</table>\n",
       "</div>"
      ],
      "text/plain": [
       "        category                                               text\n",
       "0           tech  futur hand viewer home theatr system plasma hi...\n",
       "1       business  worldcom boss left book alon former worldcom b...\n",
       "2          sport  tiger wari farrel gambl leicest say not rush m...\n",
       "3          sport  yead face newcastl cup premiership side newcas...\n",
       "4  entertainment  ocean twelv raid box offic ocean twelv crime c..."
      ]
     },
     "execution_count": 101,
     "metadata": {},
     "output_type": "execute_result"
    }
   ],
   "source": [
    "clean_data.head(5)"
   ]
  },
  {
   "cell_type": "markdown",
   "metadata": {},
   "source": [
    "### Bag of Words"
   ]
  },
  {
   "cell_type": "code",
   "execution_count": 159,
   "metadata": {},
   "outputs": [
    {
     "name": "stdout",
     "output_type": "stream",
     "text": [
      "(1557, 5000)\n",
      "Wall time: 2.05 s\n"
     ]
    }
   ],
   "source": [
    "%%time\n",
    "Y = clean_data['category'].values\n",
    "X = clean_data['text'].values\n",
    "from sklearn.model_selection import train_test_split\n",
    "xtr, xte, ytr, yte = train_test_split(X, Y, test_size=0.3, shuffle=False, random_state=7)\n",
    "#type(Y)\n",
    "from sklearn.feature_extraction.text import CountVectorizer\n",
    "from sklearn.preprocessing import normalize\n",
    "vectorizer = CountVectorizer(ngram_range=(1,2), min_df=5, max_features=5000) \n",
    "vectorizer.fit(xtr)\n",
    "#we use the fitted CountVectorizer to convert the text to vector\n",
    "xtr_bow = normalize(vectorizer.transform(xtr))\n",
    "xte_bow = normalize(vectorizer.transform(xte))\n",
    "print(xtr_bow.shape)"
   ]
  },
  {
   "cell_type": "code",
   "execution_count": 141,
   "metadata": {},
   "outputs": [
    {
     "name": "stdout",
     "output_type": "stream",
     "text": [
      "Save successful.\n",
      "Best C:hyperparameter:  SVC(C=1, cache_size=200, class_weight=None, coef0=0.0,\n",
      "  decision_function_shape='ovr', degree=3, gamma='auto', kernel='linear',\n",
      "  max_iter=-1, probability=False, random_state=1, shrinking=True,\n",
      "  tol=0.001, verbose=False)\n",
      "Best Score: 0.9749518304431599\n"
     ]
    },
    {
     "data": {
      "image/png": "[encoded data removed]",
      "text/plain": [
       "<Figure size 432x288 with 1 Axes>"
      ]
     },
     "metadata": {},
     "output_type": "display_data"
    },
    {
     "name": "stdout",
     "output_type": "stream",
     "text": [
      "\n",
      "λ Values: [1e-05, 0.0001, 0.001, 0.01, 0.1, 1, 10, 100, 1000, 10000, 100000]\n",
      "\n",
      "auc Scores: [0.23314066 0.23314066 0.23314066 0.23314066 0.95118818 0.97495183\n",
      " 0.97495183 0.97495183 0.97495183 0.97495183 0.97495183]\n",
      "Wall time: 9min\n"
     ]
    }
   ],
   "source": [
    "%%time\n",
    "try:\n",
    "    grid = FromDiskP('grid_bowl')\n",
    "    print('Load successful.')\n",
    "except:\n",
    "    grid = BestHparam_(xtr_bow,ytr,10,1,'linear')\n",
    "    ToDiskP(grid,'grid_bowl')\n",
    "    print('Save successful.')\n",
    "print(\"Best C:hyperparameter: \",grid.best_estimator_)\n",
    "print(\"Best Score:\",(grid.best_score_))\n",
    "plt.plot(np.log(hparam),grid.cv_results_['mean_train_score'])\n",
    "plt.plot(np.log(hparam),grid.cv_results_['mean_test_score'])\n",
    "plt.xlabel('Different values of C')\n",
    "plt.ylabel('roc_auc score')\n",
    "plt.title('Plot of different values of C vs. auc')\n",
    "plt.show()\n",
    "print('\\nλ Values:',hparam)\n",
    "print('\\nauc Scores:',grid.cv_results_['mean_test_score'])"
   ]
  },
  {
   "cell_type": "code",
   "execution_count": 143,
   "metadata": {},
   "outputs": [
    {
     "name": "stdout",
     "output_type": "stream",
     "text": [
      "Save successful.\n",
      "Best C:hyperparameter:  SVC(C=10000, cache_size=200, class_weight=None, coef0=0.0,\n",
      "  decision_function_shape='ovr', degree=3, gamma='auto', kernel='rbf',\n",
      "  max_iter=-1, probability=False, random_state=1, shrinking=True,\n",
      "  tol=0.001, verbose=False)\n",
      "Best Score: 0.9755940912010276\n"
     ]
    },
    {
     "data": {
      "image/png": "[encoded data removed]",
      "text/plain": [
       "<Figure size 432x288 with 1 Axes>"
      ]
     },
     "metadata": {},
     "output_type": "display_data"
    },
    {
     "name": "stdout",
     "output_type": "stream",
     "text": [
      "\n",
      "λ Values: [1e-05, 0.0001, 0.001, 0.01, 0.1, 1, 10, 100, 1000, 10000, 100000]\n",
      "\n",
      "auc Scores: [0.23314066 0.23314066 0.23314066 0.23314066 0.23314066 0.23314066\n",
      " 0.23314066 0.77328195 0.97366731 0.97559409 0.97559409]\n",
      "Wall time: 10min 57s\n"
     ]
    }
   ],
   "source": [
    "%%time\n",
    "try:\n",
    "    grid = FromDiskP('grid_bowr')\n",
    "    print('Load successful.')\n",
    "except:\n",
    "    grid = BestHparam_(xtr_bow,ytr,10,1,'rbf')\n",
    "    ToDiskP(grid,'grid_bowr')\n",
    "    print('Save successful.')\n",
    "print(\"Best C:hyperparameter: \",grid.best_estimator_)\n",
    "print(\"Best Score:\",(grid.best_score_))\n",
    "plt.plot(np.log(hparam),grid.cv_results_['mean_train_score'])\n",
    "plt.plot(np.log(hparam),grid.cv_results_['mean_test_score'])\n",
    "plt.xlabel('Different values of C')\n",
    "plt.ylabel('roc_auc score')\n",
    "plt.title('Plot of different values of C vs. auc')\n",
    "plt.show()\n",
    "print('\\nλ Values:',hparam)\n",
    "print('\\nauc Scores:',grid.cv_results_['mean_test_score'])"
   ]
  },
  {
   "cell_type": "code",
   "execution_count": 166,
   "metadata": {},
   "outputs": [
    {
     "name": "stdout",
     "output_type": "stream",
     "text": [
      "Bag of Words\n",
      "Test Accuracy(kernel=linear)\t 0.9760479041916168\n",
      "Test Accuracy(kernel=rbf)\t 0.9655688622754491\n",
      "Wall time: 5.64 s\n"
     ]
    }
   ],
   "source": [
    "%%time\n",
    "print('Bag of Words')\n",
    "svm_linear = SVC(C=10,kernel='linear', random_state=1)\n",
    "svm_linear.fit(xtr_bow,ytr)\n",
    "from sklearn.metrics import accuracy_score\n",
    "print('Test Accuracy(kernel=linear)\\t',accuracy_score(yte,svm_linear.predict(xte_bow)))\n",
    "svm_rbf = SVC(C=1000,kernel='rbf', random_state=1)\n",
    "svm_rbf.fit(xtr_bow,ytr)\n",
    "from sklearn.metrics import accuracy_score\n",
    "print('Test Accuracy(kernel=rbf)\\t',accuracy_score(yte,svm_rbf.predict(xte_bow)))"
   ]
  },
  {
   "cell_type": "markdown",
   "metadata": {},
   "source": [
    "### TF-IDF"
   ]
  },
  {
   "cell_type": "code",
   "execution_count": 163,
   "metadata": {},
   "outputs": [
    {
     "name": "stdout",
     "output_type": "stream",
     "text": [
      "Wall time: 2.07 s\n"
     ]
    }
   ],
   "source": [
    "%%time\n",
    "tfidf = TfidfVectorizer(ngram_range=(1,2), min_df=10, max_features=5000)\n",
    "tfidf.fit(xtr)\n",
    "xtr_tfidf = normalize(tfidf.transform(xtr))\n",
    "xte_tfidf = normalize(tfidf.transform(xte))"
   ]
  },
  {
   "cell_type": "code",
   "execution_count": 164,
   "metadata": {},
   "outputs": [
    {
     "name": "stdout",
     "output_type": "stream",
     "text": [
      "Save successful.\n",
      "Best C:hyperparameter:  SVC(C=1, cache_size=200, class_weight=None, coef0=0.0,\n",
      "  decision_function_shape='ovr', degree=3, gamma='auto', kernel='linear',\n",
      "  max_iter=-1, probability=False, random_state=1, shrinking=True,\n",
      "  tol=0.001, verbose=False)\n",
      "Best Score: 0.9755940912010276\n"
     ]
    },
    {
     "data": {
      "image/png": "[encoded data removed]",
      "text/plain": [
       "<Figure size 432x288 with 1 Axes>"
      ]
     },
     "metadata": {},
     "output_type": "display_data"
    },
    {
     "name": "stdout",
     "output_type": "stream",
     "text": [
      "\n",
      "λ Values: [1e-05, 0.0001, 0.001, 0.01, 0.1, 1, 10, 100, 1000, 10000, 100000]\n",
      "\n",
      "auc Scores: [0.23314066 0.23314066 0.23314066 0.23314066 0.94861914 0.97559409\n",
      " 0.97430957 0.97430957 0.97430957 0.97430957 0.97430957]\n",
      "Wall time: 9min 2s\n"
     ]
    }
   ],
   "source": [
    "%%time\n",
    "try:\n",
    "    grid = FromDiskP('grid_tfidfl')\n",
    "    print('Load successful.')\n",
    "except:\n",
    "    grid = BestHparam_(xtr_tfidf,ytr,10,1,'linear')\n",
    "    ToDiskP(grid,'grid_tfidfl')\n",
    "    print('Save successful.')\n",
    "print(\"Best C:hyperparameter: \",grid.best_estimator_)\n",
    "print(\"Best Score:\",(grid.best_score_))\n",
    "plt.plot(np.log(hparam),grid.cv_results_['mean_train_score'])\n",
    "plt.plot(np.log(hparam),grid.cv_results_['mean_test_score'])\n",
    "plt.xlabel('Different values of C')\n",
    "plt.ylabel('roc_auc score')\n",
    "plt.title('Plot of different values of C vs. auc')\n",
    "plt.show()\n",
    "print('\\nλ Values:',hparam)\n",
    "print('\\nauc Scores:',grid.cv_results_['mean_test_score'])"
   ]
  },
  {
   "cell_type": "code",
   "execution_count": 165,
   "metadata": {},
   "outputs": [
    {
     "name": "stdout",
     "output_type": "stream",
     "text": [
      "Save successful.\n",
      "Best C:hyperparameter:  SVC(C=10000, cache_size=200, class_weight=None, coef0=0.0,\n",
      "  decision_function_shape='ovr', degree=3, gamma='auto', kernel='rbf',\n",
      "  max_iter=-1, probability=False, random_state=1, shrinking=True,\n",
      "  tol=0.001, verbose=False)\n",
      "Best Score: 0.9743095696852923\n"
     ]
    },
    {
     "data": {
      "image/png": "[encoded data removed]",
      "text/plain": [
       "<Figure size 432x288 with 1 Axes>"
      ]
     },
     "metadata": {},
     "output_type": "display_data"
    },
    {
     "name": "stdout",
     "output_type": "stream",
     "text": [
      "\n",
      "λ Values: [1e-05, 0.0001, 0.001, 0.01, 0.1, 1, 10, 100, 1000, 10000, 100000]\n",
      "\n",
      "auc Scores: [0.23314066 0.23314066 0.23314066 0.23314066 0.23314066 0.23314066\n",
      " 0.23314066 0.75658317 0.97238279 0.97430957 0.97430957]\n",
      "Wall time: 11min 1s\n"
     ]
    }
   ],
   "source": [
    "%%time\n",
    "try:\n",
    "    grid = FromDiskP('grid_tfidfr')\n",
    "    print('Load successful.')\n",
    "except:\n",
    "    grid = BestHparam_(xtr_tfidf,ytr,10,1,'rbf')\n",
    "    ToDiskP(grid,'grid_tfidfr')\n",
    "    print('Save successful.')\n",
    "print(\"Best C:hyperparameter: \",grid.best_estimator_)\n",
    "print(\"Best Score:\",(grid.best_score_))\n",
    "plt.plot(np.log(hparam),grid.cv_results_['mean_train_score'])\n",
    "plt.plot(np.log(hparam),grid.cv_results_['mean_test_score'])\n",
    "plt.xlabel('Different values of C')\n",
    "plt.ylabel('roc_auc score')\n",
    "plt.title('Plot of different values of C vs. auc')\n",
    "plt.show()\n",
    "print('\\nλ Values:',hparam)\n",
    "print('\\nauc Scores:',grid.cv_results_['mean_test_score'])"
   ]
  },
  {
   "cell_type": "code",
   "execution_count": 169,
   "metadata": {},
   "outputs": [
    {
     "name": "stdout",
     "output_type": "stream",
     "text": [
      "TF-IDF\n",
      "Test Accuracy(kernel=linear)\t 0.9700598802395209\n",
      "Test Accuracy(kernel=rbf)\t 0.9760479041916168\n",
      "Wall time: 5.22 s\n"
     ]
    }
   ],
   "source": [
    "%%time\n",
    "print('TF-IDF')\n",
    "svm_linear = SVC(C=1,kernel='linear', random_state=1)\n",
    "svm_linear.fit(xtr_bow,ytr)\n",
    "from sklearn.metrics import accuracy_score\n",
    "print('Test Accuracy(kernel=linear)\\t',accuracy_score(yte,svm_linear.predict(xte_bow)))\n",
    "svm_rbf = SVC(C=10000,kernel='rbf', random_state=1)\n",
    "svm_rbf.fit(xtr_bow,ytr)\n",
    "from sklearn.metrics import accuracy_score\n",
    "print('Test Accuracy(kernel=rbf)\\t',accuracy_score(yte,svm_rbf.predict(xte_bow)))\n",
    "#svm_linear.coef_"
   ]
  },
  {
   "cell_type": "markdown",
   "metadata": {},
   "source": [
    "### Observations\n",
    "Result is identical with both vectorizer Bow & TFIDF. Both Linear SVM and RBF kernel gives almost same accuracy(97%) but as we know text data is already high dimension data hence for text data Linear kernel is preferred. RBF takes more time to train compared to Linear SVM, in this example number of datapoints are less so it is not noticable but as number of datapoints will increase Linear SVM will make difference."
   ]
  }
 ],
 "metadata": {
  "kernelspec": {
   "display_name": "Python 3",
   "language": "python",
   "name": "python3"
  },
  "language_info": {
   "codemirror_mode": {
    "name": "ipython",
    "version": 3
   },
   "file_extension": ".py",
   "mimetype": "text/x-python",
   "name": "python",
   "nbconvert_exporter": "python",
   "pygments_lexer": "ipython3",
   "version": "3.6.5"
  }
 },
 "nbformat": 4,
 "nbformat_minor": 2
}
